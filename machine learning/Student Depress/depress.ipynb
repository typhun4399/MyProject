{
 "cells": [
  {
   "cell_type": "code",
   "execution_count": 31,
   "id": "e013e544",
   "metadata": {},
   "outputs": [],
   "source": [
    "import pandas as pd\n",
    "import numpy as np\n",
    "from sklearn.preprocessing import OneHotEncoder, FunctionTransformer, StandardScaler\n",
    "from sklearn.pipeline import Pipeline\n",
    "from sklearn.impute import KNNImputer,SimpleImputer\n",
    "from sklearn.compose import ColumnTransformer\n",
    "from sklearn.ensemble import RandomForestClassifier,VotingClassifier\n",
    "from sklearn.linear_model import LogisticRegression\n",
    "from sklearn.tree import DecisionTreeClassifier\n",
    "from sklearn.svm import SVC\n",
    "from sklearn.neighbors import KNeighborsClassifier\n",
    "from sklearn.model_selection import train_test_split, cross_val_score\n",
    "from sklearn.metrics import classification_report"
   ]
  },
  {
   "cell_type": "code",
   "execution_count": 32,
   "id": "b3f4fac9",
   "metadata": {},
   "outputs": [],
   "source": [
    "df = pd.read_csv(r\"C:\\Users\\phunk\\Desktop\\MyProject\\machine learning\\Student Depress\\student_depression_dataset.csv\")"
   ]
  },
  {
   "cell_type": "code",
   "execution_count": 33,
   "id": "6881987d",
   "metadata": {},
   "outputs": [
    {
     "data": {
      "text/html": [
       "<div>\n",
       "<style scoped>\n",
       "    .dataframe tbody tr th:only-of-type {\n",
       "        vertical-align: middle;\n",
       "    }\n",
       "\n",
       "    .dataframe tbody tr th {\n",
       "        vertical-align: top;\n",
       "    }\n",
       "\n",
       "    .dataframe thead th {\n",
       "        text-align: right;\n",
       "    }\n",
       "</style>\n",
       "<table border=\"1\" class=\"dataframe\">\n",
       "  <thead>\n",
       "    <tr style=\"text-align: right;\">\n",
       "      <th></th>\n",
       "      <th>id</th>\n",
       "      <th>Gender</th>\n",
       "      <th>Age</th>\n",
       "      <th>City</th>\n",
       "      <th>Profession</th>\n",
       "      <th>Academic Pressure</th>\n",
       "      <th>Work Pressure</th>\n",
       "      <th>CGPA</th>\n",
       "      <th>Study Satisfaction</th>\n",
       "      <th>Job Satisfaction</th>\n",
       "      <th>Sleep Duration</th>\n",
       "      <th>Dietary Habits</th>\n",
       "      <th>Degree</th>\n",
       "      <th>Have you ever had suicidal thoughts ?</th>\n",
       "      <th>Work/Study Hours</th>\n",
       "      <th>Financial Stress</th>\n",
       "      <th>Family History of Mental Illness</th>\n",
       "      <th>Depression</th>\n",
       "    </tr>\n",
       "  </thead>\n",
       "  <tbody>\n",
       "    <tr>\n",
       "      <th>0</th>\n",
       "      <td>2</td>\n",
       "      <td>Male</td>\n",
       "      <td>33.0</td>\n",
       "      <td>Visakhapatnam</td>\n",
       "      <td>Student</td>\n",
       "      <td>5.0</td>\n",
       "      <td>0.0</td>\n",
       "      <td>8.97</td>\n",
       "      <td>2.0</td>\n",
       "      <td>0.0</td>\n",
       "      <td>'5-6 hours'</td>\n",
       "      <td>Healthy</td>\n",
       "      <td>B.Pharm</td>\n",
       "      <td>Yes</td>\n",
       "      <td>3.0</td>\n",
       "      <td>1.0</td>\n",
       "      <td>No</td>\n",
       "      <td>1</td>\n",
       "    </tr>\n",
       "    <tr>\n",
       "      <th>1</th>\n",
       "      <td>8</td>\n",
       "      <td>Female</td>\n",
       "      <td>24.0</td>\n",
       "      <td>Bangalore</td>\n",
       "      <td>Student</td>\n",
       "      <td>2.0</td>\n",
       "      <td>0.0</td>\n",
       "      <td>5.90</td>\n",
       "      <td>5.0</td>\n",
       "      <td>0.0</td>\n",
       "      <td>'5-6 hours'</td>\n",
       "      <td>Moderate</td>\n",
       "      <td>BSc</td>\n",
       "      <td>No</td>\n",
       "      <td>3.0</td>\n",
       "      <td>2.0</td>\n",
       "      <td>Yes</td>\n",
       "      <td>0</td>\n",
       "    </tr>\n",
       "    <tr>\n",
       "      <th>2</th>\n",
       "      <td>26</td>\n",
       "      <td>Male</td>\n",
       "      <td>31.0</td>\n",
       "      <td>Srinagar</td>\n",
       "      <td>Student</td>\n",
       "      <td>3.0</td>\n",
       "      <td>0.0</td>\n",
       "      <td>7.03</td>\n",
       "      <td>5.0</td>\n",
       "      <td>0.0</td>\n",
       "      <td>'Less than 5 hours'</td>\n",
       "      <td>Healthy</td>\n",
       "      <td>BA</td>\n",
       "      <td>No</td>\n",
       "      <td>9.0</td>\n",
       "      <td>1.0</td>\n",
       "      <td>Yes</td>\n",
       "      <td>0</td>\n",
       "    </tr>\n",
       "    <tr>\n",
       "      <th>3</th>\n",
       "      <td>30</td>\n",
       "      <td>Female</td>\n",
       "      <td>28.0</td>\n",
       "      <td>Varanasi</td>\n",
       "      <td>Student</td>\n",
       "      <td>3.0</td>\n",
       "      <td>0.0</td>\n",
       "      <td>5.59</td>\n",
       "      <td>2.0</td>\n",
       "      <td>0.0</td>\n",
       "      <td>'7-8 hours'</td>\n",
       "      <td>Moderate</td>\n",
       "      <td>BCA</td>\n",
       "      <td>Yes</td>\n",
       "      <td>4.0</td>\n",
       "      <td>5.0</td>\n",
       "      <td>Yes</td>\n",
       "      <td>1</td>\n",
       "    </tr>\n",
       "    <tr>\n",
       "      <th>4</th>\n",
       "      <td>32</td>\n",
       "      <td>Female</td>\n",
       "      <td>25.0</td>\n",
       "      <td>Jaipur</td>\n",
       "      <td>Student</td>\n",
       "      <td>4.0</td>\n",
       "      <td>0.0</td>\n",
       "      <td>8.13</td>\n",
       "      <td>3.0</td>\n",
       "      <td>0.0</td>\n",
       "      <td>'5-6 hours'</td>\n",
       "      <td>Moderate</td>\n",
       "      <td>M.Tech</td>\n",
       "      <td>Yes</td>\n",
       "      <td>1.0</td>\n",
       "      <td>1.0</td>\n",
       "      <td>No</td>\n",
       "      <td>0</td>\n",
       "    </tr>\n",
       "  </tbody>\n",
       "</table>\n",
       "</div>"
      ],
      "text/plain": [
       "   id  Gender   Age           City Profession  Academic Pressure  \\\n",
       "0   2    Male  33.0  Visakhapatnam    Student                5.0   \n",
       "1   8  Female  24.0      Bangalore    Student                2.0   \n",
       "2  26    Male  31.0       Srinagar    Student                3.0   \n",
       "3  30  Female  28.0       Varanasi    Student                3.0   \n",
       "4  32  Female  25.0         Jaipur    Student                4.0   \n",
       "\n",
       "   Work Pressure  CGPA  Study Satisfaction  Job Satisfaction  \\\n",
       "0            0.0  8.97                 2.0               0.0   \n",
       "1            0.0  5.90                 5.0               0.0   \n",
       "2            0.0  7.03                 5.0               0.0   \n",
       "3            0.0  5.59                 2.0               0.0   \n",
       "4            0.0  8.13                 3.0               0.0   \n",
       "\n",
       "        Sleep Duration Dietary Habits   Degree  \\\n",
       "0          '5-6 hours'        Healthy  B.Pharm   \n",
       "1          '5-6 hours'       Moderate      BSc   \n",
       "2  'Less than 5 hours'        Healthy       BA   \n",
       "3          '7-8 hours'       Moderate      BCA   \n",
       "4          '5-6 hours'       Moderate   M.Tech   \n",
       "\n",
       "  Have you ever had suicidal thoughts ?  Work/Study Hours Financial Stress  \\\n",
       "0                                   Yes               3.0              1.0   \n",
       "1                                    No               3.0              2.0   \n",
       "2                                    No               9.0              1.0   \n",
       "3                                   Yes               4.0              5.0   \n",
       "4                                   Yes               1.0              1.0   \n",
       "\n",
       "  Family History of Mental Illness  Depression  \n",
       "0                               No           1  \n",
       "1                              Yes           0  \n",
       "2                              Yes           0  \n",
       "3                              Yes           1  \n",
       "4                               No           0  "
      ]
     },
     "execution_count": 33,
     "metadata": {},
     "output_type": "execute_result"
    }
   ],
   "source": [
    "df.head()"
   ]
  },
  {
   "cell_type": "code",
   "execution_count": 34,
   "id": "7871fc44",
   "metadata": {},
   "outputs": [
    {
     "data": {
      "text/plain": [
       "id                                       0\n",
       "Gender                                   0\n",
       "Age                                      0\n",
       "City                                     0\n",
       "Profession                               0\n",
       "Academic Pressure                        0\n",
       "Work Pressure                            0\n",
       "CGPA                                     0\n",
       "Study Satisfaction                       0\n",
       "Job Satisfaction                         0\n",
       "Sleep Duration                           0\n",
       "Dietary Habits                           0\n",
       "Degree                                   0\n",
       "Have you ever had suicidal thoughts ?    0\n",
       "Work/Study Hours                         0\n",
       "Financial Stress                         0\n",
       "Family History of Mental Illness         0\n",
       "Depression                               0\n",
       "dtype: int64"
      ]
     },
     "execution_count": 34,
     "metadata": {},
     "output_type": "execute_result"
    }
   ],
   "source": [
    "df.isnull().sum()"
   ]
  },
  {
   "cell_type": "code",
   "execution_count": 35,
   "id": "0a7328b0",
   "metadata": {},
   "outputs": [
    {
     "name": "stdout",
     "output_type": "stream",
     "text": [
      "<class 'pandas.core.frame.DataFrame'>\n",
      "RangeIndex: 27901 entries, 0 to 27900\n",
      "Data columns (total 18 columns):\n",
      " #   Column                                 Non-Null Count  Dtype  \n",
      "---  ------                                 --------------  -----  \n",
      " 0   id                                     27901 non-null  int64  \n",
      " 1   Gender                                 27901 non-null  object \n",
      " 2   Age                                    27901 non-null  float64\n",
      " 3   City                                   27901 non-null  object \n",
      " 4   Profession                             27901 non-null  object \n",
      " 5   Academic Pressure                      27901 non-null  float64\n",
      " 6   Work Pressure                          27901 non-null  float64\n",
      " 7   CGPA                                   27901 non-null  float64\n",
      " 8   Study Satisfaction                     27901 non-null  float64\n",
      " 9   Job Satisfaction                       27901 non-null  float64\n",
      " 10  Sleep Duration                         27901 non-null  object \n",
      " 11  Dietary Habits                         27901 non-null  object \n",
      " 12  Degree                                 27901 non-null  object \n",
      " 13  Have you ever had suicidal thoughts ?  27901 non-null  object \n",
      " 14  Work/Study Hours                       27901 non-null  float64\n",
      " 15  Financial Stress                       27901 non-null  object \n",
      " 16  Family History of Mental Illness       27901 non-null  object \n",
      " 17  Depression                             27901 non-null  int64  \n",
      "dtypes: float64(7), int64(2), object(9)\n",
      "memory usage: 3.8+ MB\n"
     ]
    }
   ],
   "source": [
    "df.info()"
   ]
  },
  {
   "cell_type": "code",
   "execution_count": 36,
   "id": "be202a9a",
   "metadata": {},
   "outputs": [
    {
     "name": "stdout",
     "output_type": "stream",
     "text": [
      "id : 27901\n",
      "Gender : 2\n",
      "Age : 34\n",
      "City : 52\n",
      "Profession : 14\n",
      "Academic Pressure : 6\n",
      "Work Pressure : 3\n",
      "CGPA : 332\n",
      "Study Satisfaction : 6\n",
      "Job Satisfaction : 5\n",
      "Sleep Duration : 5\n",
      "Dietary Habits : 4\n",
      "Degree : 28\n",
      "Have you ever had suicidal thoughts ? : 2\n",
      "Work/Study Hours : 13\n",
      "Financial Stress : 6\n",
      "Family History of Mental Illness : 2\n",
      "Depression : 2\n"
     ]
    }
   ],
   "source": [
    "for col in df.columns:\n",
    "    print(f\"{col} : {len(df[col].unique())}\")"
   ]
  },
  {
   "cell_type": "code",
   "execution_count": 37,
   "id": "e4974a87",
   "metadata": {},
   "outputs": [
    {
     "name": "stdout",
     "output_type": "stream",
     "text": [
      "id : [     2      8     26 ... 140689 140690 140699]\n",
      "Gender : ['Male' 'Female']\n",
      "Age : [33. 24. 31. 28. 25. 29. 30. 27. 19. 20. 23. 18. 21. 22. 34. 32. 26. 39.\n",
      " 35. 42. 36. 58. 49. 38. 51. 44. 43. 46. 59. 54. 48. 56. 37. 41.]\n",
      "City : ['Visakhapatnam' 'Bangalore' 'Srinagar' 'Varanasi' 'Jaipur' 'Pune' 'Thane'\n",
      " 'Chennai' 'Nagpur' 'Nashik' 'Vadodara' 'Kalyan' 'Rajkot' 'Ahmedabad'\n",
      " 'Kolkata' 'Mumbai' 'Lucknow' 'Indore' 'Surat' 'Ludhiana' 'Bhopal'\n",
      " 'Meerut' 'Agra' 'Ghaziabad' 'Hyderabad' 'Vasai-Virar' 'Kanpur' 'Patna'\n",
      " 'Faridabad' 'Delhi' 'Saanvi' 'M.Tech' 'Bhavna' \"'Less Delhi'\" 'City'\n",
      " '3.0' \"'Less than 5 Kalyan'\" 'Mira' 'Harsha' 'Vaanya' 'Gaurav' 'Harsh'\n",
      " 'Reyansh' 'Kibara' 'Rashi' 'ME' 'M.Com' 'Nalyan' 'Mihir' 'Nalini'\n",
      " 'Nandini' 'Khaziabad']\n",
      "Profession : ['Student' \"'Civil Engineer'\" 'Architect' \"'UX/UI Designer'\"\n",
      " \"'Digital Marketer'\" \"'Content Writer'\" \"'Educational Consultant'\"\n",
      " 'Teacher' 'Manager' 'Chef' 'Doctor' 'Lawyer' 'Entrepreneur' 'Pharmacist']\n",
      "Academic Pressure : [5. 2. 3. 4. 1. 0.]\n",
      "Work Pressure : [0. 5. 2.]\n",
      "CGPA : [ 8.97    5.9     7.03    5.59    8.13    5.7     9.54    8.04    9.79\n",
      "  8.38    6.1     7.04    8.52    5.64    8.58    6.51    7.25    7.83\n",
      "  9.93    8.74    6.73    5.57    8.59    7.1     6.08    5.74    9.86\n",
      "  6.7     6.21    5.87    6.37    9.72    5.88    9.56    6.99    5.24\n",
      "  9.21    7.85    6.95    5.86    7.92    9.66    8.94    9.71    7.87\n",
      "  5.6     7.9     5.46    6.79    8.7     7.38    8.5     7.09    9.82\n",
      "  8.89    7.94    9.11    6.75    7.53    9.49    9.01    7.64    5.27\n",
      "  6.      9.44    5.75    7.51    9.05    6.38    8.95    9.88    5.32\n",
      "  6.27    7.7     8.1     9.59    8.96    5.51    7.43    8.79    9.95\n",
      "  5.37    6.86    8.32    9.74    5.66    7.48    8.23    8.81    6.03\n",
      "  5.56    5.68    5.14    7.61    6.17    8.17    9.87    8.75    6.16\n",
      "  9.5     7.99    5.67    8.92    6.19    5.76    6.25    5.11    5.58\n",
      "  5.65    9.89    8.03    6.61    9.41    8.64    7.21    8.28    6.04\n",
      "  9.13    8.08    9.96    5.12    8.35    7.07    9.6     9.24    8.54\n",
      "  8.78    8.93    8.91    9.04    6.83    5.85    7.74    6.41    8.9\n",
      "  7.75    7.88    5.42    7.52    7.68    8.4     9.39    6.84    5.99\n",
      "  8.62    8.53    7.47    6.78    6.42    9.92    8.39    5.89    7.22\n",
      "  6.81    9.02    9.97    9.63    9.67    5.41    7.27    6.05    6.85\n",
      "  9.33    5.81    6.53    5.98    6.02    6.74    5.26    7.72    7.39\n",
      "  8.43    9.34    5.44    5.82    5.72    8.19    8.44    8.98    9.37\n",
      "  5.8     7.28    7.6     7.91    9.17    7.46    9.43    9.91    9.36\n",
      "  5.16    7.08    9.26    8.83   10.      7.8     9.46    6.63    7.24\n",
      "  6.47    7.77    5.06    7.17    8.24    6.88    9.03    5.08    5.45\n",
      "  8.46    9.19    6.36    8.73    7.11    9.12    9.4     8.11    9.98\n",
      "  5.55    8.61    8.14    6.89    9.84    5.48    8.21    7.82    8.55\n",
      "  5.79    8.77    8.29    6.92    7.37    9.7     6.26    7.26    7.5\n",
      "  6.82    7.15    5.77    5.91    5.1     7.71    9.06    5.71    5.84\n",
      "  9.42    6.23    6.29    5.25    9.69    9.9     6.39    8.09    5.83\n",
      "  5.47    6.56    8.71    9.94    6.69    5.52    7.3     7.02    6.33\n",
      "  8.07    8.37    8.      7.79    8.65    6.28    7.35    8.69    7.12\n",
      "  7.32    7.13    5.97    5.09    6.91    6.76    6.52    7.45    8.56\n",
      "  6.5     8.63    8.27    8.49    6.59    9.29    5.3     7.06    5.38\n",
      "  6.65    9.16    8.01    8.25    8.02    8.47    7.34    8.88    7.14\n",
      "  8.42    5.17    9.1     7.49    9.85    7.42    9.31    6.35    7.\n",
      "  5.39    5.61    9.78    9.25    5.69    9.47    8.16    7.23    6.46\n",
      "  0.      8.26    6.32    6.77    8.85    5.03    7.65    5.78    6.24\n",
      "  5.35    6.06    7.78    6.64    7.0625  6.98    6.44    6.09  ]\n",
      "Study Satisfaction : [2. 5. 3. 4. 1. 0.]\n",
      "Job Satisfaction : [0. 3. 4. 2. 1.]\n",
      "Sleep Duration : [\"'5-6 hours'\" \"'Less than 5 hours'\" \"'7-8 hours'\" \"'More than 8 hours'\"\n",
      " 'Others']\n",
      "Dietary Habits : ['Healthy' 'Moderate' 'Unhealthy' 'Others']\n",
      "Degree : ['B.Pharm' 'BSc' 'BA' 'BCA' 'M.Tech' 'PhD' \"'Class 12'\" 'B.Ed' 'LLB' 'BE'\n",
      " 'M.Ed' 'MSc' 'BHM' 'M.Pharm' 'MCA' 'MA' 'B.Com' 'MD' 'MBA' 'MBBS' 'M.Com'\n",
      " 'B.Arch' 'LLM' 'B.Tech' 'BBA' 'ME' 'MHM' 'Others']\n",
      "Have you ever had suicidal thoughts ? : ['Yes' 'No']\n",
      "Work/Study Hours : [ 3.  9.  4.  1.  0. 12.  2. 11. 10.  6.  8.  5.  7.]\n",
      "Financial Stress : ['1.0' '2.0' '5.0' '3.0' '4.0' '?']\n",
      "Family History of Mental Illness : ['No' 'Yes']\n",
      "Depression : [1 0]\n"
     ]
    }
   ],
   "source": [
    "for col in df.columns:\n",
    "    print(f\"{col} : {df[col].unique()}\")"
   ]
  },
  {
   "cell_type": "code",
   "execution_count": 38,
   "id": "def89ba6",
   "metadata": {},
   "outputs": [],
   "source": [
    "df[\"Financial Stress\"] = df[\"Financial Stress\"].replace(\"?\",np.nan)"
   ]
  },
  {
   "cell_type": "code",
   "execution_count": 39,
   "id": "407c1e16",
   "metadata": {},
   "outputs": [],
   "source": [
    "X = df.drop([\"Depression\",\"id\"],axis=1)\n",
    "y = df[\"Depression\"]"
   ]
  },
  {
   "cell_type": "code",
   "execution_count": 40,
   "id": "278a7a66",
   "metadata": {},
   "outputs": [],
   "source": [
    "cat_col = [\"Gender\",\"City\",\"Profession\",\"Sleep Duration\",\"Dietary Habits\",\"Degree\",\"Have you ever had suicidal thoughts ?\",\"Family History of Mental Illness\"]\n",
    "num_col = [\"Age\",\"Academic Pressure\",\"Work Pressure\",\"CGPA\",\"Study Satisfaction\",\"Job Satisfaction\",\"Work/Study Hours\",\"Financial Stress\"]"
   ]
  },
  {
   "cell_type": "code",
   "execution_count": 41,
   "id": "6dcb534a",
   "metadata": {},
   "outputs": [],
   "source": [
    "cat_tranform = Pipeline(steps=[\n",
    "    ('simple impute',SimpleImputer(strategy='most_frequent')),\n",
    "    ('one hot encode',OneHotEncoder(drop=\"first\",sparse_output=False, handle_unknown='ignore'))\n",
    "])\n",
    "\n",
    "def round_values(x):\n",
    "    return np.round(x, 0)\n",
    "\n",
    "num_tranform = Pipeline(steps=[\n",
    "    ('impute',KNNImputer(n_neighbors=3)),\n",
    "    ('round',FunctionTransformer(round_values)),\n",
    "    ('scaler',StandardScaler())\n",
    "])\n",
    "\n",
    "prepreocess = ColumnTransformer(transformers=[\n",
    "    ('cat',cat_tranform,cat_col),\n",
    "    ('num',num_tranform,num_col)\n",
    "])"
   ]
  },
  {
   "cell_type": "code",
   "execution_count": 42,
   "id": "7030804e",
   "metadata": {},
   "outputs": [],
   "source": [
    "models = {\n",
    "    \"logistic regression\": LogisticRegression(max_iter=500),\n",
    "    \"decision tree\": DecisionTreeClassifier(max_depth=5, min_samples_split=10, min_samples_leaf=5, random_state=42),\n",
    "    \"random forest\": RandomForestClassifier(n_estimators=300, max_depth=10, min_samples_split=10, random_state=42, n_jobs=-1),\n",
    "    \"SVM\": SVC(),\n",
    "    \"KNeighbors\": KNeighborsClassifier(n_neighbors=5)\n",
    "}\n"
   ]
  },
  {
   "cell_type": "code",
   "execution_count": 43,
   "id": "045633d8",
   "metadata": {},
   "outputs": [],
   "source": [
    "X_train, X_test, y_train, y_test = train_test_split(X, y, test_size=0.2, random_state=42)"
   ]
  },
  {
   "cell_type": "code",
   "execution_count": 47,
   "id": "5bfa9f5a",
   "metadata": {},
   "outputs": [
    {
     "name": "stderr",
     "output_type": "stream",
     "text": [
      "c:\\Users\\phunk\\Desktop\\ml_env\\Lib\\site-packages\\sklearn\\preprocessing\\_encoders.py:246: UserWarning: Found unknown categories in columns [1, 2] during transform. These unknown categories will be encoded as all zeros\n",
      "  warnings.warn(\n",
      "c:\\Users\\phunk\\Desktop\\ml_env\\Lib\\site-packages\\sklearn\\preprocessing\\_encoders.py:246: UserWarning: Found unknown categories in columns [1, 2] during transform. These unknown categories will be encoded as all zeros\n",
      "  warnings.warn(\n",
      "c:\\Users\\phunk\\Desktop\\ml_env\\Lib\\site-packages\\sklearn\\preprocessing\\_encoders.py:246: UserWarning: Found unknown categories in columns [1, 2] during transform. These unknown categories will be encoded as all zeros\n",
      "  warnings.warn(\n",
      "c:\\Users\\phunk\\Desktop\\ml_env\\Lib\\site-packages\\sklearn\\preprocessing\\_encoders.py:246: UserWarning: Found unknown categories in columns [2] during transform. These unknown categories will be encoded as all zeros\n",
      "  warnings.warn(\n",
      "c:\\Users\\phunk\\Desktop\\ml_env\\Lib\\site-packages\\sklearn\\preprocessing\\_encoders.py:246: UserWarning: Found unknown categories in columns [1] during transform. These unknown categories will be encoded as all zeros\n",
      "  warnings.warn(\n"
     ]
    },
    {
     "name": "stdout",
     "output_type": "stream",
     "text": [
      "logistic regression: CV Accuracy = 0.850\n"
     ]
    },
    {
     "name": "stderr",
     "output_type": "stream",
     "text": [
      "c:\\Users\\phunk\\Desktop\\ml_env\\Lib\\site-packages\\sklearn\\preprocessing\\_encoders.py:246: UserWarning: Found unknown categories in columns [1, 2] during transform. These unknown categories will be encoded as all zeros\n",
      "  warnings.warn(\n"
     ]
    },
    {
     "name": "stdout",
     "output_type": "stream",
     "text": [
      "logistic regression\n",
      "              precision    recall  f1-score   support\n",
      "\n",
      "           0       0.82      0.79      0.80      2343\n",
      "           1       0.85      0.88      0.86      3238\n",
      "\n",
      "    accuracy                           0.84      5581\n",
      "   macro avg       0.84      0.83      0.83      5581\n",
      "weighted avg       0.84      0.84      0.84      5581\n",
      "\n"
     ]
    },
    {
     "name": "stderr",
     "output_type": "stream",
     "text": [
      "c:\\Users\\phunk\\Desktop\\ml_env\\Lib\\site-packages\\sklearn\\preprocessing\\_encoders.py:246: UserWarning: Found unknown categories in columns [1, 2] during transform. These unknown categories will be encoded as all zeros\n",
      "  warnings.warn(\n",
      "c:\\Users\\phunk\\Desktop\\ml_env\\Lib\\site-packages\\sklearn\\preprocessing\\_encoders.py:246: UserWarning: Found unknown categories in columns [1, 2] during transform. These unknown categories will be encoded as all zeros\n",
      "  warnings.warn(\n",
      "c:\\Users\\phunk\\Desktop\\ml_env\\Lib\\site-packages\\sklearn\\preprocessing\\_encoders.py:246: UserWarning: Found unknown categories in columns [1, 2] during transform. These unknown categories will be encoded as all zeros\n",
      "  warnings.warn(\n",
      "c:\\Users\\phunk\\Desktop\\ml_env\\Lib\\site-packages\\sklearn\\preprocessing\\_encoders.py:246: UserWarning: Found unknown categories in columns [2] during transform. These unknown categories will be encoded as all zeros\n",
      "  warnings.warn(\n",
      "c:\\Users\\phunk\\Desktop\\ml_env\\Lib\\site-packages\\sklearn\\preprocessing\\_encoders.py:246: UserWarning: Found unknown categories in columns [1] during transform. These unknown categories will be encoded as all zeros\n",
      "  warnings.warn(\n"
     ]
    },
    {
     "name": "stdout",
     "output_type": "stream",
     "text": [
      "decision tree: CV Accuracy = 0.827\n"
     ]
    },
    {
     "name": "stderr",
     "output_type": "stream",
     "text": [
      "c:\\Users\\phunk\\Desktop\\ml_env\\Lib\\site-packages\\sklearn\\preprocessing\\_encoders.py:246: UserWarning: Found unknown categories in columns [1, 2] during transform. These unknown categories will be encoded as all zeros\n",
      "  warnings.warn(\n"
     ]
    },
    {
     "name": "stdout",
     "output_type": "stream",
     "text": [
      "decision tree\n",
      "              precision    recall  f1-score   support\n",
      "\n",
      "           0       0.77      0.80      0.78      2343\n",
      "           1       0.85      0.82      0.84      3238\n",
      "\n",
      "    accuracy                           0.81      5581\n",
      "   macro avg       0.81      0.81      0.81      5581\n",
      "weighted avg       0.82      0.81      0.81      5581\n",
      "\n"
     ]
    },
    {
     "name": "stderr",
     "output_type": "stream",
     "text": [
      "c:\\Users\\phunk\\Desktop\\ml_env\\Lib\\site-packages\\sklearn\\preprocessing\\_encoders.py:246: UserWarning: Found unknown categories in columns [1, 2] during transform. These unknown categories will be encoded as all zeros\n",
      "  warnings.warn(\n",
      "c:\\Users\\phunk\\Desktop\\ml_env\\Lib\\site-packages\\sklearn\\preprocessing\\_encoders.py:246: UserWarning: Found unknown categories in columns [1, 2] during transform. These unknown categories will be encoded as all zeros\n",
      "  warnings.warn(\n",
      "c:\\Users\\phunk\\Desktop\\ml_env\\Lib\\site-packages\\sklearn\\preprocessing\\_encoders.py:246: UserWarning: Found unknown categories in columns [1, 2] during transform. These unknown categories will be encoded as all zeros\n",
      "  warnings.warn(\n",
      "c:\\Users\\phunk\\Desktop\\ml_env\\Lib\\site-packages\\sklearn\\preprocessing\\_encoders.py:246: UserWarning: Found unknown categories in columns [2] during transform. These unknown categories will be encoded as all zeros\n",
      "  warnings.warn(\n",
      "c:\\Users\\phunk\\Desktop\\ml_env\\Lib\\site-packages\\sklearn\\preprocessing\\_encoders.py:246: UserWarning: Found unknown categories in columns [1] during transform. These unknown categories will be encoded as all zeros\n",
      "  warnings.warn(\n"
     ]
    },
    {
     "name": "stdout",
     "output_type": "stream",
     "text": [
      "random forest: CV Accuracy = 0.841\n"
     ]
    },
    {
     "name": "stderr",
     "output_type": "stream",
     "text": [
      "c:\\Users\\phunk\\Desktop\\ml_env\\Lib\\site-packages\\sklearn\\preprocessing\\_encoders.py:246: UserWarning: Found unknown categories in columns [1, 2] during transform. These unknown categories will be encoded as all zeros\n",
      "  warnings.warn(\n"
     ]
    },
    {
     "name": "stdout",
     "output_type": "stream",
     "text": [
      "random forest\n",
      "              precision    recall  f1-score   support\n",
      "\n",
      "           0       0.83      0.75      0.79      2343\n",
      "           1       0.83      0.89      0.86      3238\n",
      "\n",
      "    accuracy                           0.83      5581\n",
      "   macro avg       0.83      0.82      0.82      5581\n",
      "weighted avg       0.83      0.83      0.83      5581\n",
      "\n"
     ]
    },
    {
     "name": "stderr",
     "output_type": "stream",
     "text": [
      "c:\\Users\\phunk\\Desktop\\ml_env\\Lib\\site-packages\\sklearn\\preprocessing\\_encoders.py:246: UserWarning: Found unknown categories in columns [1, 2] during transform. These unknown categories will be encoded as all zeros\n",
      "  warnings.warn(\n",
      "c:\\Users\\phunk\\Desktop\\ml_env\\Lib\\site-packages\\sklearn\\preprocessing\\_encoders.py:246: UserWarning: Found unknown categories in columns [1, 2] during transform. These unknown categories will be encoded as all zeros\n",
      "  warnings.warn(\n",
      "c:\\Users\\phunk\\Desktop\\ml_env\\Lib\\site-packages\\sklearn\\preprocessing\\_encoders.py:246: UserWarning: Found unknown categories in columns [1, 2] during transform. These unknown categories will be encoded as all zeros\n",
      "  warnings.warn(\n",
      "c:\\Users\\phunk\\Desktop\\ml_env\\Lib\\site-packages\\sklearn\\preprocessing\\_encoders.py:246: UserWarning: Found unknown categories in columns [2] during transform. These unknown categories will be encoded as all zeros\n",
      "  warnings.warn(\n",
      "c:\\Users\\phunk\\Desktop\\ml_env\\Lib\\site-packages\\sklearn\\preprocessing\\_encoders.py:246: UserWarning: Found unknown categories in columns [1] during transform. These unknown categories will be encoded as all zeros\n",
      "  warnings.warn(\n"
     ]
    },
    {
     "name": "stdout",
     "output_type": "stream",
     "text": [
      "SVM: CV Accuracy = 0.848\n"
     ]
    },
    {
     "name": "stderr",
     "output_type": "stream",
     "text": [
      "c:\\Users\\phunk\\Desktop\\ml_env\\Lib\\site-packages\\sklearn\\preprocessing\\_encoders.py:246: UserWarning: Found unknown categories in columns [1, 2] during transform. These unknown categories will be encoded as all zeros\n",
      "  warnings.warn(\n"
     ]
    },
    {
     "name": "stdout",
     "output_type": "stream",
     "text": [
      "SVM\n",
      "              precision    recall  f1-score   support\n",
      "\n",
      "           0       0.82      0.77      0.80      2343\n",
      "           1       0.84      0.88      0.86      3238\n",
      "\n",
      "    accuracy                           0.83      5581\n",
      "   macro avg       0.83      0.83      0.83      5581\n",
      "weighted avg       0.83      0.83      0.83      5581\n",
      "\n"
     ]
    },
    {
     "name": "stderr",
     "output_type": "stream",
     "text": [
      "c:\\Users\\phunk\\Desktop\\ml_env\\Lib\\site-packages\\sklearn\\preprocessing\\_encoders.py:246: UserWarning: Found unknown categories in columns [1, 2] during transform. These unknown categories will be encoded as all zeros\n",
      "  warnings.warn(\n",
      "c:\\Users\\phunk\\Desktop\\ml_env\\Lib\\site-packages\\sklearn\\preprocessing\\_encoders.py:246: UserWarning: Found unknown categories in columns [1, 2] during transform. These unknown categories will be encoded as all zeros\n",
      "  warnings.warn(\n",
      "c:\\Users\\phunk\\Desktop\\ml_env\\Lib\\site-packages\\sklearn\\preprocessing\\_encoders.py:246: UserWarning: Found unknown categories in columns [1, 2] during transform. These unknown categories will be encoded as all zeros\n",
      "  warnings.warn(\n",
      "c:\\Users\\phunk\\Desktop\\ml_env\\Lib\\site-packages\\sklearn\\preprocessing\\_encoders.py:246: UserWarning: Found unknown categories in columns [2] during transform. These unknown categories will be encoded as all zeros\n",
      "  warnings.warn(\n",
      "c:\\Users\\phunk\\Desktop\\ml_env\\Lib\\site-packages\\sklearn\\preprocessing\\_encoders.py:246: UserWarning: Found unknown categories in columns [1] during transform. These unknown categories will be encoded as all zeros\n",
      "  warnings.warn(\n"
     ]
    },
    {
     "name": "stdout",
     "output_type": "stream",
     "text": [
      "KNeighbors: CV Accuracy = 0.818\n"
     ]
    },
    {
     "name": "stderr",
     "output_type": "stream",
     "text": [
      "c:\\Users\\phunk\\Desktop\\ml_env\\Lib\\site-packages\\sklearn\\preprocessing\\_encoders.py:246: UserWarning: Found unknown categories in columns [1, 2] during transform. These unknown categories will be encoded as all zeros\n",
      "  warnings.warn(\n"
     ]
    },
    {
     "name": "stdout",
     "output_type": "stream",
     "text": [
      "KNeighbors\n",
      "              precision    recall  f1-score   support\n",
      "\n",
      "           0       0.80      0.72      0.76      2343\n",
      "           1       0.81      0.87      0.84      3238\n",
      "\n",
      "    accuracy                           0.81      5581\n",
      "   macro avg       0.80      0.80      0.80      5581\n",
      "weighted avg       0.81      0.81      0.81      5581\n",
      "\n"
     ]
    },
    {
     "name": "stderr",
     "output_type": "stream",
     "text": [
      "c:\\Users\\phunk\\Desktop\\ml_env\\Lib\\site-packages\\sklearn\\preprocessing\\_encoders.py:246: UserWarning: Found unknown categories in columns [1, 2] during transform. These unknown categories will be encoded as all zeros\n",
      "  warnings.warn(\n"
     ]
    },
    {
     "name": "stdout",
     "output_type": "stream",
     "text": [
      "Voting Result(Hard)\n",
      "              precision    recall  f1-score   support\n",
      "\n",
      "           0       0.82      0.78      0.80      2343\n",
      "           1       0.84      0.88      0.86      3238\n",
      "\n",
      "    accuracy                           0.84      5581\n",
      "   macro avg       0.83      0.83      0.83      5581\n",
      "weighted avg       0.84      0.84      0.84      5581\n",
      "\n"
     ]
    }
   ],
   "source": [
    "for name, model in models.items():\n",
    "    clf = Pipeline(steps=[\n",
    "        ('preprocess',prepreocess),\n",
    "        ('classifier',model)\n",
    "    ])\n",
    "\n",
    "    clf.fit(X_train, y_train)\n",
    "    y_pred = clf.predict(X_test)\n",
    "    print(name)\n",
    "    print(classification_report(y_test, y_pred))\n",
    "    scores = cross_val_score(clf, X_train, y_train, cv=5)\n",
    "    print(f\"{name}: CV Accuracy = {scores.mean():.3f}\")\n",
    "    \n",
    "voting_clf = VotingClassifier(\n",
    "    estimators=list(models.items()),\n",
    "    voting=\"hard\"\n",
    ")\n",
    "vclf = Pipeline(steps=[\n",
    "    ('prepreocess',prepreocess),\n",
    "    ('classifier',voting_clf)\n",
    "])\n",
    "vclf.fit(X_train, y_train)\n",
    "y_pred_voting = vclf.predict(X_test)\n",
    "print(\"Voting Result(Hard)\")\n",
    "print(classification_report(y_test,y_pred_voting))"
   ]
  }
 ],
 "metadata": {
  "kernelspec": {
   "display_name": "ml_env",
   "language": "python",
   "name": "python3"
  },
  "language_info": {
   "codemirror_mode": {
    "name": "ipython",
    "version": 3
   },
   "file_extension": ".py",
   "mimetype": "text/x-python",
   "name": "python",
   "nbconvert_exporter": "python",
   "pygments_lexer": "ipython3",
   "version": "3.12.1"
  }
 },
 "nbformat": 4,
 "nbformat_minor": 5
}
