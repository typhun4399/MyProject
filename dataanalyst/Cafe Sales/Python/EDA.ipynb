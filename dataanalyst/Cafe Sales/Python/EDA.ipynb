{
 "cells": [
  {
   "cell_type": "code",
   "execution_count": 193,
   "id": "ad9b290c",
   "metadata": {},
   "outputs": [],
   "source": [
    "import pandas as pd\n",
    "import numpy as np\n",
    "from sklearn.preprocessing import OrdinalEncoder\n",
    "from sklearn.impute import KNNImputer"
   ]
  },
  {
   "cell_type": "code",
   "execution_count": 194,
   "id": "c240b74b",
   "metadata": {},
   "outputs": [],
   "source": [
    "df = pd.read_csv(r\"C:\\Users\\phunk\\Desktop\\MyProject\\dataanalyst\\Cafe Sales\\Data\\dirty_cafe_sales.csv\")"
   ]
  },
  {
   "cell_type": "code",
   "execution_count": 195,
   "id": "9ca2d4eb",
   "metadata": {},
   "outputs": [
    {
     "data": {
      "text/html": [
       "<div>\n",
       "<style scoped>\n",
       "    .dataframe tbody tr th:only-of-type {\n",
       "        vertical-align: middle;\n",
       "    }\n",
       "\n",
       "    .dataframe tbody tr th {\n",
       "        vertical-align: top;\n",
       "    }\n",
       "\n",
       "    .dataframe thead th {\n",
       "        text-align: right;\n",
       "    }\n",
       "</style>\n",
       "<table border=\"1\" class=\"dataframe\">\n",
       "  <thead>\n",
       "    <tr style=\"text-align: right;\">\n",
       "      <th></th>\n",
       "      <th>Transaction ID</th>\n",
       "      <th>Item</th>\n",
       "      <th>Quantity</th>\n",
       "      <th>Price Per Unit</th>\n",
       "      <th>Total Spent</th>\n",
       "      <th>Payment Method</th>\n",
       "      <th>Location</th>\n",
       "      <th>Transaction Date</th>\n",
       "    </tr>\n",
       "  </thead>\n",
       "  <tbody>\n",
       "    <tr>\n",
       "      <th>0</th>\n",
       "      <td>TXN_1961373</td>\n",
       "      <td>Coffee</td>\n",
       "      <td>2</td>\n",
       "      <td>2.0</td>\n",
       "      <td>4.0</td>\n",
       "      <td>Credit Card</td>\n",
       "      <td>Takeaway</td>\n",
       "      <td>2023-09-08</td>\n",
       "    </tr>\n",
       "    <tr>\n",
       "      <th>1</th>\n",
       "      <td>TXN_4977031</td>\n",
       "      <td>Cake</td>\n",
       "      <td>4</td>\n",
       "      <td>3.0</td>\n",
       "      <td>12.0</td>\n",
       "      <td>Cash</td>\n",
       "      <td>In-store</td>\n",
       "      <td>2023-05-16</td>\n",
       "    </tr>\n",
       "    <tr>\n",
       "      <th>2</th>\n",
       "      <td>TXN_4271903</td>\n",
       "      <td>Cookie</td>\n",
       "      <td>4</td>\n",
       "      <td>1.0</td>\n",
       "      <td>ERROR</td>\n",
       "      <td>Credit Card</td>\n",
       "      <td>In-store</td>\n",
       "      <td>2023-07-19</td>\n",
       "    </tr>\n",
       "    <tr>\n",
       "      <th>3</th>\n",
       "      <td>TXN_7034554</td>\n",
       "      <td>Salad</td>\n",
       "      <td>2</td>\n",
       "      <td>5.0</td>\n",
       "      <td>10.0</td>\n",
       "      <td>UNKNOWN</td>\n",
       "      <td>UNKNOWN</td>\n",
       "      <td>2023-04-27</td>\n",
       "    </tr>\n",
       "    <tr>\n",
       "      <th>4</th>\n",
       "      <td>TXN_3160411</td>\n",
       "      <td>Coffee</td>\n",
       "      <td>2</td>\n",
       "      <td>2.0</td>\n",
       "      <td>4.0</td>\n",
       "      <td>Digital Wallet</td>\n",
       "      <td>In-store</td>\n",
       "      <td>2023-06-11</td>\n",
       "    </tr>\n",
       "  </tbody>\n",
       "</table>\n",
       "</div>"
      ],
      "text/plain": [
       "  Transaction ID    Item Quantity Price Per Unit Total Spent  Payment Method  \\\n",
       "0    TXN_1961373  Coffee        2            2.0         4.0     Credit Card   \n",
       "1    TXN_4977031    Cake        4            3.0        12.0            Cash   \n",
       "2    TXN_4271903  Cookie        4            1.0       ERROR     Credit Card   \n",
       "3    TXN_7034554   Salad        2            5.0        10.0         UNKNOWN   \n",
       "4    TXN_3160411  Coffee        2            2.0         4.0  Digital Wallet   \n",
       "\n",
       "   Location Transaction Date  \n",
       "0  Takeaway       2023-09-08  \n",
       "1  In-store       2023-05-16  \n",
       "2  In-store       2023-07-19  \n",
       "3   UNKNOWN       2023-04-27  \n",
       "4  In-store       2023-06-11  "
      ]
     },
     "execution_count": 195,
     "metadata": {},
     "output_type": "execute_result"
    }
   ],
   "source": [
    "df.head()"
   ]
  },
  {
   "cell_type": "code",
   "execution_count": 196,
   "id": "ed52746b",
   "metadata": {},
   "outputs": [
    {
     "name": "stdout",
     "output_type": "stream",
     "text": [
      "<class 'pandas.core.frame.DataFrame'>\n",
      "RangeIndex: 10000 entries, 0 to 9999\n",
      "Data columns (total 8 columns):\n",
      " #   Column            Non-Null Count  Dtype \n",
      "---  ------            --------------  ----- \n",
      " 0   Transaction ID    10000 non-null  object\n",
      " 1   Item              9667 non-null   object\n",
      " 2   Quantity          9862 non-null   object\n",
      " 3   Price Per Unit    9821 non-null   object\n",
      " 4   Total Spent       9827 non-null   object\n",
      " 5   Payment Method    7421 non-null   object\n",
      " 6   Location          6735 non-null   object\n",
      " 7   Transaction Date  9841 non-null   object\n",
      "dtypes: object(8)\n",
      "memory usage: 625.1+ KB\n"
     ]
    }
   ],
   "source": [
    "df.info()"
   ]
  },
  {
   "cell_type": "code",
   "execution_count": 197,
   "id": "30924524",
   "metadata": {},
   "outputs": [
    {
     "name": "stdout",
     "output_type": "stream",
     "text": [
      "Transaction ID : ['TXN_1961373' 'TXN_4977031' 'TXN_4271903' ... 'TXN_5255387' 'TXN_7695629'\n",
      " 'TXN_6170729']\n",
      "Item : ['Coffee' 'Cake' 'Cookie' 'Salad' 'Smoothie' 'UNKNOWN' 'Sandwich' nan\n",
      " 'ERROR' 'Juice' 'Tea']\n",
      "Quantity : ['2' '4' '5' '3' '1' 'ERROR' 'UNKNOWN' nan]\n",
      "Price Per Unit : ['2.0' '3.0' '1.0' '5.0' '4.0' '1.5' nan 'ERROR' 'UNKNOWN']\n",
      "Total Spent : ['4.0' '12.0' 'ERROR' '10.0' '20.0' '9.0' '16.0' '15.0' '25.0' '8.0' '5.0'\n",
      " '3.0' '6.0' nan 'UNKNOWN' '2.0' '1.0' '7.5' '4.5' '1.5']\n",
      "Payment Method : ['Credit Card' 'Cash' 'UNKNOWN' 'Digital Wallet' 'ERROR' nan]\n",
      "Location : ['Takeaway' 'In-store' 'UNKNOWN' nan 'ERROR']\n",
      "Transaction Date : ['2023-09-08' '2023-05-16' '2023-07-19' '2023-04-27' '2023-06-11'\n",
      " '2023-03-31' '2023-10-06' '2023-10-28' '2023-07-28' '2023-12-31'\n",
      " '2023-11-07' 'ERROR' '2023-05-03' '2023-06-01' '2023-03-21' '2023-11-15'\n",
      " '2023-06-10' '2023-02-24' '2023-03-25' '2023-01-15' '2023-04-04'\n",
      " '2023-03-30' '2023-12-01' '2023-09-18' '2023-06-03' '2023-12-13'\n",
      " '2023-04-20' '2023-04-10' '2023-03-11' '2023-06-02' '2023-11-06'\n",
      " '2023-08-15' '2023-10-09' '2023-05-28' '2023-07-17' '2023-04-29'\n",
      " '2023-06-08' '2023-06-29' '2023-04-17' '2023-12-22' '2023-01-10'\n",
      " '2023-10-02' '2023-02-23' '2023-03-22' '2023-11-03' '2023-03-02'\n",
      " '2023-06-26' '2023-05-02' '2023-09-05' '2023-01-08' '2023-03-15'\n",
      " '2023-11-25' '2023-12-05' '2023-03-19' '2023-06-27' '2023-04-19'\n",
      " '2023-10-07' '2023-09-30' '2023-05-27' '2023-11-18' '2023-10-20'\n",
      " '2023-10-03' '2023-10-27' '2023-04-06' '2023-01-31' '2023-12-08'\n",
      " '2023-06-19' '2023-12-14' '2023-07-16' '2023-02-22' nan '2023-06-15'\n",
      " '2023-12-09' '2023-04-18' '2023-10-29' '2023-04-30' '2023-04-02'\n",
      " '2023-05-24' '2023-03-12' '2023-08-16' '2023-09-10' '2023-03-07'\n",
      " '2023-08-07' '2023-08-20' '2023-04-15' '2023-07-25' '2023-10-30'\n",
      " '2023-12-15' '2023-02-25' '2023-04-03' '2023-10-08' '2023-12-28'\n",
      " '2023-08-30' '2023-02-03' '2023-09-12' '2023-05-04' '2023-02-21'\n",
      " 'UNKNOWN' '2023-03-16' '2023-02-06' '2023-03-29' '2023-06-18'\n",
      " '2023-09-23' '2023-01-14' '2023-09-14' '2023-09-16' '2023-04-08'\n",
      " '2023-12-19' '2023-07-14' '2023-12-12' '2023-01-05' '2023-01-23'\n",
      " '2023-02-20' '2023-12-06' '2023-05-31' '2023-08-11' '2023-09-03'\n",
      " '2023-07-11' '2023-06-06' '2023-01-18' '2023-03-23' '2023-01-04'\n",
      " '2023-06-23' '2023-08-03' '2023-07-12' '2023-11-02' '2023-07-31'\n",
      " '2023-09-19' '2023-02-09' '2023-09-04' '2023-05-21' '2023-07-02'\n",
      " '2023-07-10' '2023-11-21' '2023-12-02' '2023-03-13' '2023-08-12'\n",
      " '2023-02-16' '2023-04-11' '2023-03-26' '2023-11-01' '2023-07-22'\n",
      " '2023-07-26' '2023-02-28' '2023-01-27' '2023-01-19' '2023-04-07'\n",
      " '2023-03-20' '2023-12-27' '2023-10-26' '2023-02-18' '2023-05-15'\n",
      " '2023-12-10' '2023-04-21' '2023-02-04' '2023-11-12' '2023-08-05'\n",
      " '2023-05-10' '2023-07-15' '2023-01-11' '2023-10-01' '2023-04-26'\n",
      " '2023-08-25' '2023-03-01' '2023-11-13' '2023-07-09' '2023-05-13'\n",
      " '2023-05-18' '2023-01-17' '2023-09-22' '2023-08-22' '2023-07-27'\n",
      " '2023-12-30' '2023-12-21' '2023-09-28' '2023-11-16' '2023-04-14'\n",
      " '2023-01-03' '2023-01-12' '2023-08-31' '2023-07-07' '2023-09-15'\n",
      " '2023-10-21' '2023-09-02' '2023-08-19' '2023-01-06' '2023-10-13'\n",
      " '2023-05-29' '2023-05-22' '2023-11-23' '2023-10-15' '2023-11-14'\n",
      " '2023-11-26' '2023-12-17' '2023-05-09' '2023-10-22' '2023-06-30'\n",
      " '2023-04-25' '2023-02-19' '2023-12-11' '2023-10-12' '2023-07-04'\n",
      " '2023-01-28' '2023-10-04' '2023-02-26' '2023-10-11' '2023-02-14'\n",
      " '2023-04-28' '2023-09-06' '2023-04-23' '2023-01-22' '2023-03-10'\n",
      " '2023-01-09' '2023-12-03' '2023-08-06' '2023-12-29' '2023-02-15'\n",
      " '2023-05-25' '2023-10-31' '2023-02-27' '2023-03-03' '2023-09-27'\n",
      " '2023-08-18' '2023-12-16' '2023-06-07' '2023-05-12' '2023-07-06'\n",
      " '2023-06-20' '2023-08-09' '2023-05-14' '2023-07-18' '2023-10-10'\n",
      " '2023-02-02' '2023-08-14' '2023-09-26' '2023-01-13' '2023-10-16'\n",
      " '2023-11-17' '2023-12-20' '2023-12-04' '2023-02-08' '2023-09-11'\n",
      " '2023-02-01' '2023-02-12' '2023-03-14' '2023-09-29' '2023-04-22'\n",
      " '2023-06-13' '2023-12-24' '2023-03-28' '2023-03-06' '2023-02-11'\n",
      " '2023-01-30' '2023-04-09' '2023-04-16' '2023-12-23' '2023-03-05'\n",
      " '2023-03-24' '2023-07-23' '2023-07-29' '2023-06-05' '2023-10-19'\n",
      " '2023-01-07' '2023-11-29' '2023-07-05' '2023-07-20' '2023-05-07'\n",
      " '2023-08-10' '2023-10-24' '2023-08-13' '2023-08-28' '2023-06-21'\n",
      " '2023-11-10' '2023-10-18' '2023-05-19' '2023-11-09' '2023-06-24'\n",
      " '2023-05-11' '2023-12-07' '2023-09-01' '2023-09-25' '2023-06-22'\n",
      " '2023-05-30' '2023-04-24' '2023-09-20' '2023-02-07' '2023-05-05'\n",
      " '2023-02-10' '2023-11-24' '2023-10-25' '2023-10-05' '2023-07-21'\n",
      " '2023-07-08' '2023-03-17' '2023-10-14' '2023-06-28' '2023-09-09'\n",
      " '2023-08-21' '2023-07-01' '2023-06-14' '2023-03-09' '2023-11-08'\n",
      " '2023-12-26' '2023-09-13' '2023-05-23' '2023-08-24' '2023-04-01'\n",
      " '2023-06-09' '2023-08-23' '2023-08-08' '2023-08-27' '2023-05-26'\n",
      " '2023-06-16' '2023-12-25' '2023-01-25' '2023-10-23' '2023-05-06'\n",
      " '2023-01-29' '2023-08-29' '2023-01-01' '2023-07-24' '2023-04-12'\n",
      " '2023-12-18' '2023-09-21' '2023-05-01' '2023-02-05' '2023-01-24'\n",
      " '2023-01-02' '2023-06-12' '2023-01-16' '2023-10-17' '2023-03-04'\n",
      " '2023-06-17' '2023-03-18' '2023-08-26' '2023-05-17' '2023-11-22'\n",
      " '2023-08-17' '2023-11-19' '2023-11-27' '2023-06-04' '2023-09-17'\n",
      " '2023-11-04' '2023-11-28' '2023-06-25' '2023-04-13' '2023-01-26'\n",
      " '2023-08-04' '2023-05-08' '2023-11-20' '2023-07-13' '2023-09-24'\n",
      " '2023-01-21' '2023-03-08' '2023-09-07' '2023-11-30' '2023-08-02'\n",
      " '2023-04-05' '2023-08-01' '2023-01-20' '2023-11-11' '2023-02-13'\n",
      " '2023-07-30' '2023-02-17' '2023-05-20' '2023-11-05' '2023-03-27'\n",
      " '2023-07-03']\n"
     ]
    }
   ],
   "source": [
    "for col in df.columns:\n",
    "    print(f\"{col} : {df[col].unique()}\")"
   ]
  },
  {
   "cell_type": "code",
   "execution_count": 198,
   "id": "3077cb0b",
   "metadata": {},
   "outputs": [
    {
     "data": {
      "text/plain": [
       "Index(['Item', 'Quantity', 'Price Per Unit', 'Total Spent', 'Payment Method',\n",
       "       'Location', 'Transaction Date'],\n",
       "      dtype='object')"
      ]
     },
     "execution_count": 198,
     "metadata": {},
     "output_type": "execute_result"
    }
   ],
   "source": [
    "df.columns[df.isin([\"UNKNOWN\", \"ERROR\"]).any()]"
   ]
  },
  {
   "cell_type": "code",
   "execution_count": 199,
   "id": "be832855",
   "metadata": {},
   "outputs": [],
   "source": [
    "df = df.replace([\"UNKNOWN\", \"ERROR\"],np.nan)"
   ]
  },
  {
   "cell_type": "code",
   "execution_count": 200,
   "id": "7f0eba04",
   "metadata": {},
   "outputs": [
    {
     "data": {
      "text/plain": [
       "Index([], dtype='object')"
      ]
     },
     "execution_count": 200,
     "metadata": {},
     "output_type": "execute_result"
    }
   ],
   "source": [
    "df.columns[df.isin([\"UNKNOWN\", \"ERROR\"]).any()]"
   ]
  },
  {
   "cell_type": "code",
   "execution_count": 201,
   "id": "eadfd64a",
   "metadata": {},
   "outputs": [
    {
     "data": {
      "text/plain": [
       "Transaction ID         0\n",
       "Item                 969\n",
       "Quantity             479\n",
       "Price Per Unit       533\n",
       "Total Spent          502\n",
       "Payment Method      3178\n",
       "Location            3961\n",
       "Transaction Date     460\n",
       "dtype: int64"
      ]
     },
     "execution_count": 201,
     "metadata": {},
     "output_type": "execute_result"
    }
   ],
   "source": [
    "df.isnull().sum()"
   ]
  },
  {
   "cell_type": "code",
   "execution_count": 202,
   "id": "33802244",
   "metadata": {},
   "outputs": [],
   "source": [
    "cat_col = [\"Item\",\"Payment Method\",\"Location\",\"Transaction Date\"]\n",
    "num_col = [\"Quantity\",\"Price Per Unit\",\"Total Spent\"]"
   ]
  },
  {
   "cell_type": "code",
   "execution_count": 203,
   "id": "a6dbc098",
   "metadata": {},
   "outputs": [],
   "source": [
    "encode = OrdinalEncoder()\n",
    "df[cat_col] = encode.fit_transform(df[cat_col])"
   ]
  },
  {
   "cell_type": "code",
   "execution_count": 204,
   "id": "70ad017d",
   "metadata": {},
   "outputs": [
    {
     "data": {
      "text/html": [
       "<div>\n",
       "<style scoped>\n",
       "    .dataframe tbody tr th:only-of-type {\n",
       "        vertical-align: middle;\n",
       "    }\n",
       "\n",
       "    .dataframe tbody tr th {\n",
       "        vertical-align: top;\n",
       "    }\n",
       "\n",
       "    .dataframe thead th {\n",
       "        text-align: right;\n",
       "    }\n",
       "</style>\n",
       "<table border=\"1\" class=\"dataframe\">\n",
       "  <thead>\n",
       "    <tr style=\"text-align: right;\">\n",
       "      <th></th>\n",
       "      <th>Transaction ID</th>\n",
       "      <th>Item</th>\n",
       "      <th>Quantity</th>\n",
       "      <th>Price Per Unit</th>\n",
       "      <th>Total Spent</th>\n",
       "      <th>Payment Method</th>\n",
       "      <th>Location</th>\n",
       "      <th>Transaction Date</th>\n",
       "    </tr>\n",
       "  </thead>\n",
       "  <tbody>\n",
       "    <tr>\n",
       "      <th>0</th>\n",
       "      <td>TXN_1961373</td>\n",
       "      <td>1.0</td>\n",
       "      <td>2</td>\n",
       "      <td>2.0</td>\n",
       "      <td>4.0</td>\n",
       "      <td>1.0</td>\n",
       "      <td>1.0</td>\n",
       "      <td>250.0</td>\n",
       "    </tr>\n",
       "    <tr>\n",
       "      <th>1</th>\n",
       "      <td>TXN_4977031</td>\n",
       "      <td>0.0</td>\n",
       "      <td>4</td>\n",
       "      <td>3.0</td>\n",
       "      <td>12.0</td>\n",
       "      <td>0.0</td>\n",
       "      <td>0.0</td>\n",
       "      <td>135.0</td>\n",
       "    </tr>\n",
       "    <tr>\n",
       "      <th>2</th>\n",
       "      <td>TXN_4271903</td>\n",
       "      <td>2.0</td>\n",
       "      <td>4</td>\n",
       "      <td>1.0</td>\n",
       "      <td>NaN</td>\n",
       "      <td>1.0</td>\n",
       "      <td>0.0</td>\n",
       "      <td>199.0</td>\n",
       "    </tr>\n",
       "    <tr>\n",
       "      <th>3</th>\n",
       "      <td>TXN_7034554</td>\n",
       "      <td>4.0</td>\n",
       "      <td>2</td>\n",
       "      <td>5.0</td>\n",
       "      <td>10.0</td>\n",
       "      <td>NaN</td>\n",
       "      <td>NaN</td>\n",
       "      <td>116.0</td>\n",
       "    </tr>\n",
       "    <tr>\n",
       "      <th>4</th>\n",
       "      <td>TXN_3160411</td>\n",
       "      <td>1.0</td>\n",
       "      <td>2</td>\n",
       "      <td>2.0</td>\n",
       "      <td>4.0</td>\n",
       "      <td>2.0</td>\n",
       "      <td>0.0</td>\n",
       "      <td>161.0</td>\n",
       "    </tr>\n",
       "  </tbody>\n",
       "</table>\n",
       "</div>"
      ],
      "text/plain": [
       "  Transaction ID  Item Quantity Price Per Unit Total Spent  Payment Method  \\\n",
       "0    TXN_1961373   1.0        2            2.0         4.0             1.0   \n",
       "1    TXN_4977031   0.0        4            3.0        12.0             0.0   \n",
       "2    TXN_4271903   2.0        4            1.0         NaN             1.0   \n",
       "3    TXN_7034554   4.0        2            5.0        10.0             NaN   \n",
       "4    TXN_3160411   1.0        2            2.0         4.0             2.0   \n",
       "\n",
       "   Location  Transaction Date  \n",
       "0       1.0             250.0  \n",
       "1       0.0             135.0  \n",
       "2       0.0             199.0  \n",
       "3       NaN             116.0  \n",
       "4       0.0             161.0  "
      ]
     },
     "execution_count": 204,
     "metadata": {},
     "output_type": "execute_result"
    }
   ],
   "source": [
    "df.head()"
   ]
  },
  {
   "cell_type": "code",
   "execution_count": 205,
   "id": "ab52fc0a",
   "metadata": {},
   "outputs": [],
   "source": [
    "imputer = KNNImputer(n_neighbors=5)\n",
    "df[cat_col] = imputer.fit_transform(df[cat_col]).round().astype(int)\n",
    "df[num_col] = imputer.fit_transform(df[num_col])"
   ]
  },
  {
   "cell_type": "code",
   "execution_count": 206,
   "id": "428bf51e",
   "metadata": {},
   "outputs": [
    {
     "data": {
      "text/plain": [
       "Transaction ID      0\n",
       "Item                0\n",
       "Quantity            0\n",
       "Price Per Unit      0\n",
       "Total Spent         0\n",
       "Payment Method      0\n",
       "Location            0\n",
       "Transaction Date    0\n",
       "dtype: int64"
      ]
     },
     "execution_count": 206,
     "metadata": {},
     "output_type": "execute_result"
    }
   ],
   "source": [
    "df.isnull().sum()"
   ]
  },
  {
   "cell_type": "code",
   "execution_count": 207,
   "id": "5a0ac4ab",
   "metadata": {},
   "outputs": [
    {
     "name": "stdout",
     "output_type": "stream",
     "text": [
      "Item : [1 0 2 4 6 5 3 7]\n",
      "Payment Method : [1 0 2]\n",
      "Location : [1 0]\n",
      "Transaction Date : [250 135 199 116 161  89 278 300 208 364 310 214 122 151  79 318 160  54\n",
      "  83  14  93  88 334 260 153 346 109  99  69 172 152 309 226 164 281 147\n",
      " 197 118 158 179 106 355   9 274  53  80 306  60 176 121 247   7  73 328\n",
      " 338  77 177 108 279 272 146 321 292 275 299  95  30 341 169 347 196  52\n",
      " 165 342 107 301 119  91 143  70 227 252  65 218 231 104 205 302 348 192\n",
      " 181  55  92 280 361 241  33 254 123  51  74  36  87 168 265  13 256 258\n",
      "  97 352 194 345   4  22  50 339 150 222 245 191 156  17  81   3 173 184\n",
      " 305 211 261  39 246 140 182 190 324 335  71 223  46 100  84 304 202 206\n",
      "  58  26  18  96  78 360 298  48 134 343 110  34 315 216 129 210 195  10\n",
      " 273 115 236  59 316 189 132 157 137  16 264 233 207 363 354 270 319 103\n",
      "   2  11 242 187 285 257 293 244 162 230   5 126 148 141 326 287 317 329\n",
      " 350 128 294 180 114  49 344 284  27 276 253  56 283  44 117 248 112  21\n",
      "  68   8 336 217 362  45 144 303  57  61 269 229 349 131 186 170 220 133\n",
      " 198 282  32 225 268  12 288 320 353 337  38  31  42  72 271 111 167 228\n",
      " 163 357  86  64  41  29  98 105 356  63  82 203 209 155 291   6 332 185\n",
      " 200 221 296 224 239 171 174 313 290 138 312 130 340 243 267 149 113 262\n",
      "  37 124  40 327 237 297 277 201 188  75 286 178 251 232  67 311 359 255\n",
      " 142 235  90 159 234 219 238 145 166 358  24 295 125  28 240   0 204 101\n",
      " 351 263 120  35  23   1  15 289  62  76 136 215 325 322 330 154 259 139\n",
      " 307 331 175 102  25 127 323 193 266  20  66 249 333 213  94 212  19 314\n",
      "  43  47 308  85 183]\n"
     ]
    }
   ],
   "source": [
    "for col in cat_col:\n",
    "    print(f\"{col} : {df[col].unique()}\")"
   ]
  },
  {
   "cell_type": "code",
   "execution_count": 208,
   "id": "8344cd9b",
   "metadata": {},
   "outputs": [],
   "source": [
    "df[cat_col] = encode.inverse_transform(df[cat_col])"
   ]
  },
  {
   "cell_type": "code",
   "execution_count": 210,
   "id": "a63a9d3e",
   "metadata": {},
   "outputs": [
    {
     "data": {
      "text/html": [
       "<div>\n",
       "<style scoped>\n",
       "    .dataframe tbody tr th:only-of-type {\n",
       "        vertical-align: middle;\n",
       "    }\n",
       "\n",
       "    .dataframe tbody tr th {\n",
       "        vertical-align: top;\n",
       "    }\n",
       "\n",
       "    .dataframe thead th {\n",
       "        text-align: right;\n",
       "    }\n",
       "</style>\n",
       "<table border=\"1\" class=\"dataframe\">\n",
       "  <thead>\n",
       "    <tr style=\"text-align: right;\">\n",
       "      <th></th>\n",
       "      <th>Transaction ID</th>\n",
       "      <th>Item</th>\n",
       "      <th>Quantity</th>\n",
       "      <th>Price Per Unit</th>\n",
       "      <th>Total Spent</th>\n",
       "      <th>Payment Method</th>\n",
       "      <th>Location</th>\n",
       "      <th>Transaction Date</th>\n",
       "    </tr>\n",
       "  </thead>\n",
       "  <tbody>\n",
       "    <tr>\n",
       "      <th>0</th>\n",
       "      <td>TXN_1961373</td>\n",
       "      <td>Coffee</td>\n",
       "      <td>2.0</td>\n",
       "      <td>2.0</td>\n",
       "      <td>4.0</td>\n",
       "      <td>Credit Card</td>\n",
       "      <td>Takeaway</td>\n",
       "      <td>2023-09-08</td>\n",
       "    </tr>\n",
       "    <tr>\n",
       "      <th>1</th>\n",
       "      <td>TXN_4977031</td>\n",
       "      <td>Cake</td>\n",
       "      <td>4.0</td>\n",
       "      <td>3.0</td>\n",
       "      <td>12.0</td>\n",
       "      <td>Cash</td>\n",
       "      <td>In-store</td>\n",
       "      <td>2023-05-16</td>\n",
       "    </tr>\n",
       "    <tr>\n",
       "      <th>2</th>\n",
       "      <td>TXN_4271903</td>\n",
       "      <td>Cookie</td>\n",
       "      <td>4.0</td>\n",
       "      <td>1.0</td>\n",
       "      <td>5.8</td>\n",
       "      <td>Credit Card</td>\n",
       "      <td>In-store</td>\n",
       "      <td>2023-07-19</td>\n",
       "    </tr>\n",
       "    <tr>\n",
       "      <th>3</th>\n",
       "      <td>TXN_7034554</td>\n",
       "      <td>Salad</td>\n",
       "      <td>2.0</td>\n",
       "      <td>5.0</td>\n",
       "      <td>10.0</td>\n",
       "      <td>Credit Card</td>\n",
       "      <td>In-store</td>\n",
       "      <td>2023-04-27</td>\n",
       "    </tr>\n",
       "    <tr>\n",
       "      <th>4</th>\n",
       "      <td>TXN_3160411</td>\n",
       "      <td>Coffee</td>\n",
       "      <td>2.0</td>\n",
       "      <td>2.0</td>\n",
       "      <td>4.0</td>\n",
       "      <td>Digital Wallet</td>\n",
       "      <td>In-store</td>\n",
       "      <td>2023-06-11</td>\n",
       "    </tr>\n",
       "  </tbody>\n",
       "</table>\n",
       "</div>"
      ],
      "text/plain": [
       "  Transaction ID    Item  Quantity  Price Per Unit  Total Spent  \\\n",
       "0    TXN_1961373  Coffee       2.0             2.0          4.0   \n",
       "1    TXN_4977031    Cake       4.0             3.0         12.0   \n",
       "2    TXN_4271903  Cookie       4.0             1.0          5.8   \n",
       "3    TXN_7034554   Salad       2.0             5.0         10.0   \n",
       "4    TXN_3160411  Coffee       2.0             2.0          4.0   \n",
       "\n",
       "   Payment Method  Location Transaction Date  \n",
       "0     Credit Card  Takeaway       2023-09-08  \n",
       "1            Cash  In-store       2023-05-16  \n",
       "2     Credit Card  In-store       2023-07-19  \n",
       "3     Credit Card  In-store       2023-04-27  \n",
       "4  Digital Wallet  In-store       2023-06-11  "
      ]
     },
     "execution_count": 210,
     "metadata": {},
     "output_type": "execute_result"
    }
   ],
   "source": [
    "df.head()"
   ]
  },
  {
   "cell_type": "code",
   "execution_count": 211,
   "id": "e87d4ffe",
   "metadata": {},
   "outputs": [],
   "source": [
    "df.to_excel(\"cafe_sales.xlsx\",index=False)"
   ]
  }
 ],
 "metadata": {
  "kernelspec": {
   "display_name": "ml_env",
   "language": "python",
   "name": "python3"
  },
  "language_info": {
   "codemirror_mode": {
    "name": "ipython",
    "version": 3
   },
   "file_extension": ".py",
   "mimetype": "text/x-python",
   "name": "python",
   "nbconvert_exporter": "python",
   "pygments_lexer": "ipython3",
   "version": "3.12.1"
  }
 },
 "nbformat": 4,
 "nbformat_minor": 5
}
