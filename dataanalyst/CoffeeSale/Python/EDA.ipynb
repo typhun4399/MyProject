{
 "cells": [
  {
   "cell_type": "code",
   "execution_count": 67,
   "id": "d97c5ffb",
   "metadata": {},
   "outputs": [],
   "source": [
    "import pandas as pd\n",
    "import matplotlib.pyplot as plt\n",
    "import seaborn as sns"
   ]
  },
  {
   "cell_type": "code",
   "execution_count": 68,
   "id": "ba290862",
   "metadata": {},
   "outputs": [],
   "source": [
    "df1 = pd.read_csv(r\"C:\\Users\\phunk\\Desktop\\MyProject\\dataanalyst\\CoffeeSale\\Data\\index_1.csv\")\n",
    "df2 = pd.read_csv(r\"C:\\Users\\phunk\\Desktop\\MyProject\\dataanalyst\\CoffeeSale\\Data\\index_2.csv\")"
   ]
  },
  {
   "cell_type": "code",
   "execution_count": 69,
   "id": "2d8f170c",
   "metadata": {},
   "outputs": [
    {
     "data": {
      "text/html": [
       "<div>\n",
       "<style scoped>\n",
       "    .dataframe tbody tr th:only-of-type {\n",
       "        vertical-align: middle;\n",
       "    }\n",
       "\n",
       "    .dataframe tbody tr th {\n",
       "        vertical-align: top;\n",
       "    }\n",
       "\n",
       "    .dataframe thead th {\n",
       "        text-align: right;\n",
       "    }\n",
       "</style>\n",
       "<table border=\"1\" class=\"dataframe\">\n",
       "  <thead>\n",
       "    <tr style=\"text-align: right;\">\n",
       "      <th></th>\n",
       "      <th>date</th>\n",
       "      <th>datetime</th>\n",
       "      <th>cash_type</th>\n",
       "      <th>card</th>\n",
       "      <th>money</th>\n",
       "      <th>coffee_name</th>\n",
       "    </tr>\n",
       "  </thead>\n",
       "  <tbody>\n",
       "    <tr>\n",
       "      <th>0</th>\n",
       "      <td>2024-03-01</td>\n",
       "      <td>2024-03-01 10:15:50.520</td>\n",
       "      <td>card</td>\n",
       "      <td>ANON-0000-0000-0001</td>\n",
       "      <td>38.7</td>\n",
       "      <td>Latte</td>\n",
       "    </tr>\n",
       "    <tr>\n",
       "      <th>1</th>\n",
       "      <td>2024-03-01</td>\n",
       "      <td>2024-03-01 12:19:22.539</td>\n",
       "      <td>card</td>\n",
       "      <td>ANON-0000-0000-0002</td>\n",
       "      <td>38.7</td>\n",
       "      <td>Hot Chocolate</td>\n",
       "    </tr>\n",
       "    <tr>\n",
       "      <th>2</th>\n",
       "      <td>2024-03-01</td>\n",
       "      <td>2024-03-01 12:20:18.089</td>\n",
       "      <td>card</td>\n",
       "      <td>ANON-0000-0000-0002</td>\n",
       "      <td>38.7</td>\n",
       "      <td>Hot Chocolate</td>\n",
       "    </tr>\n",
       "    <tr>\n",
       "      <th>3</th>\n",
       "      <td>2024-03-01</td>\n",
       "      <td>2024-03-01 13:46:33.006</td>\n",
       "      <td>card</td>\n",
       "      <td>ANON-0000-0000-0003</td>\n",
       "      <td>28.9</td>\n",
       "      <td>Americano</td>\n",
       "    </tr>\n",
       "    <tr>\n",
       "      <th>4</th>\n",
       "      <td>2024-03-01</td>\n",
       "      <td>2024-03-01 13:48:14.626</td>\n",
       "      <td>card</td>\n",
       "      <td>ANON-0000-0000-0004</td>\n",
       "      <td>38.7</td>\n",
       "      <td>Latte</td>\n",
       "    </tr>\n",
       "    <tr>\n",
       "      <th>5</th>\n",
       "      <td>2024-03-01</td>\n",
       "      <td>2024-03-01 15:39:47.726</td>\n",
       "      <td>card</td>\n",
       "      <td>ANON-0000-0000-0005</td>\n",
       "      <td>33.8</td>\n",
       "      <td>Americano with Milk</td>\n",
       "    </tr>\n",
       "    <tr>\n",
       "      <th>6</th>\n",
       "      <td>2024-03-01</td>\n",
       "      <td>2024-03-01 16:19:02.756</td>\n",
       "      <td>card</td>\n",
       "      <td>ANON-0000-0000-0006</td>\n",
       "      <td>38.7</td>\n",
       "      <td>Hot Chocolate</td>\n",
       "    </tr>\n",
       "    <tr>\n",
       "      <th>7</th>\n",
       "      <td>2024-03-01</td>\n",
       "      <td>2024-03-01 18:39:03.580</td>\n",
       "      <td>card</td>\n",
       "      <td>ANON-0000-0000-0007</td>\n",
       "      <td>33.8</td>\n",
       "      <td>Americano with Milk</td>\n",
       "    </tr>\n",
       "    <tr>\n",
       "      <th>8</th>\n",
       "      <td>2024-03-01</td>\n",
       "      <td>2024-03-01 19:22:01.762</td>\n",
       "      <td>card</td>\n",
       "      <td>ANON-0000-0000-0008</td>\n",
       "      <td>38.7</td>\n",
       "      <td>Cocoa</td>\n",
       "    </tr>\n",
       "    <tr>\n",
       "      <th>9</th>\n",
       "      <td>2024-03-01</td>\n",
       "      <td>2024-03-01 19:23:15.887</td>\n",
       "      <td>card</td>\n",
       "      <td>ANON-0000-0000-0008</td>\n",
       "      <td>33.8</td>\n",
       "      <td>Americano with Milk</td>\n",
       "    </tr>\n",
       "  </tbody>\n",
       "</table>\n",
       "</div>"
      ],
      "text/plain": [
       "         date                 datetime cash_type                 card  money  \\\n",
       "0  2024-03-01  2024-03-01 10:15:50.520      card  ANON-0000-0000-0001   38.7   \n",
       "1  2024-03-01  2024-03-01 12:19:22.539      card  ANON-0000-0000-0002   38.7   \n",
       "2  2024-03-01  2024-03-01 12:20:18.089      card  ANON-0000-0000-0002   38.7   \n",
       "3  2024-03-01  2024-03-01 13:46:33.006      card  ANON-0000-0000-0003   28.9   \n",
       "4  2024-03-01  2024-03-01 13:48:14.626      card  ANON-0000-0000-0004   38.7   \n",
       "5  2024-03-01  2024-03-01 15:39:47.726      card  ANON-0000-0000-0005   33.8   \n",
       "6  2024-03-01  2024-03-01 16:19:02.756      card  ANON-0000-0000-0006   38.7   \n",
       "7  2024-03-01  2024-03-01 18:39:03.580      card  ANON-0000-0000-0007   33.8   \n",
       "8  2024-03-01  2024-03-01 19:22:01.762      card  ANON-0000-0000-0008   38.7   \n",
       "9  2024-03-01  2024-03-01 19:23:15.887      card  ANON-0000-0000-0008   33.8   \n",
       "\n",
       "           coffee_name  \n",
       "0                Latte  \n",
       "1        Hot Chocolate  \n",
       "2        Hot Chocolate  \n",
       "3            Americano  \n",
       "4                Latte  \n",
       "5  Americano with Milk  \n",
       "6        Hot Chocolate  \n",
       "7  Americano with Milk  \n",
       "8                Cocoa  \n",
       "9  Americano with Milk  "
      ]
     },
     "execution_count": 69,
     "metadata": {},
     "output_type": "execute_result"
    }
   ],
   "source": [
    "df = pd.concat([df1,df2], axis=0)\n",
    "df.head(10)"
   ]
  },
  {
   "cell_type": "code",
   "execution_count": 70,
   "id": "cf41c53a",
   "metadata": {},
   "outputs": [
    {
     "data": {
      "text/plain": [
       "(3898, 6)"
      ]
     },
     "execution_count": 70,
     "metadata": {},
     "output_type": "execute_result"
    }
   ],
   "source": [
    "df.shape"
   ]
  },
  {
   "cell_type": "code",
   "execution_count": 71,
   "id": "8fbed235",
   "metadata": {},
   "outputs": [
    {
     "data": {
      "text/plain": [
       "date             0\n",
       "datetime         0\n",
       "cash_type        0\n",
       "card           351\n",
       "money            0\n",
       "coffee_name      0\n",
       "dtype: int64"
      ]
     },
     "execution_count": 71,
     "metadata": {},
     "output_type": "execute_result"
    }
   ],
   "source": [
    "df.isnull().sum()"
   ]
  },
  {
   "cell_type": "code",
   "execution_count": 72,
   "id": "f23f617f",
   "metadata": {},
   "outputs": [],
   "source": [
    "df = df.dropna(subset=\"card\")"
   ]
  },
  {
   "cell_type": "code",
   "execution_count": 73,
   "id": "7153a650",
   "metadata": {},
   "outputs": [
    {
     "data": {
      "text/plain": [
       "date           0\n",
       "datetime       0\n",
       "cash_type      0\n",
       "card           0\n",
       "money          0\n",
       "coffee_name    0\n",
       "dtype: int64"
      ]
     },
     "execution_count": 73,
     "metadata": {},
     "output_type": "execute_result"
    }
   ],
   "source": [
    "df.isnull().sum()"
   ]
  },
  {
   "cell_type": "code",
   "execution_count": 74,
   "id": "0c8a8d1c",
   "metadata": {},
   "outputs": [],
   "source": [
    "top5 = (\n",
    "    df.groupby('coffee_name')['money']\n",
    "    .count()\n",
    "    .sort_values(ascending=False)\n",
    "    .head(5)\n",
    ")"
   ]
  },
  {
   "cell_type": "code",
   "execution_count": 75,
   "id": "ada34597",
   "metadata": {},
   "outputs": [
    {
     "data": {
      "text/plain": [
       "<Axes: xlabel='coffee_name'>"
      ]
     },
     "execution_count": 75,
     "metadata": {},
     "output_type": "execute_result"
    },
    {
     "data": {
      "image/png": "[encoded data removed]",
      "text/plain": [
       "<Figure size 640x480 with 1 Axes>"
      ]
     },
     "metadata": {},
     "output_type": "display_data"
    }
   ],
   "source": [
    "top5.plot(kind=\"bar\")"
   ]
  },
  {
   "cell_type": "code",
   "execution_count": 76,
   "id": "2afcee1e",
   "metadata": {},
   "outputs": [],
   "source": [
    "df.to_excel(\"Coffee Sales.xlsx\", index=False)"
   ]
  }
 ],
 "metadata": {
  "kernelspec": {
   "display_name": "ml_env",
   "language": "python",
   "name": "python3"
  },
  "language_info": {
   "codemirror_mode": {
    "name": "ipython",
    "version": 3
   },
   "file_extension": ".py",
   "mimetype": "text/x-python",
   "name": "python",
   "nbconvert_exporter": "python",
   "pygments_lexer": "ipython3",
   "version": "3.12.1"
  }
 },
 "nbformat": 4,
 "nbformat_minor": 5
}
